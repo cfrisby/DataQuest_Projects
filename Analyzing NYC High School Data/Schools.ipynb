{
 "cells": [
  {
   "cell_type": "markdown",
   "metadata": {},
   "source": [
    "# Analyzing NYC High School Data\n",
    "\n",
    "The purpose of this project is to analyze the relationship between SAT scores and various demographic factors in New York City. We will consider factors such as school safety, race, gender, and AP test scores. The data was originally obtained [here](https://data.cityofnewyork.us/browse?category=Education)."
   ]
  },
  {
   "cell_type": "markdown",
   "metadata": {},
   "source": [
    "### Read in the data"
   ]
  },
  {
   "cell_type": "code",
   "execution_count": 1,
   "metadata": {},
   "outputs": [],
   "source": [
    "import pandas as pd\n",
    "import numpy as np\n",
    "import re\n",
    "\n",
    "data_files = [\n",
    "    \"ap_2010.csv\",\n",
    "    \"class_size.csv\",\n",
    "    \"demographics.csv\",\n",
    "    \"graduation.csv\",\n",
    "    \"hs_directory.csv\",\n",
    "    \"sat_results.csv\"\n",
    "]\n",
    "\n",
    "data = {}\n",
    "\n",
    "for f in data_files:\n",
    "    d = pd.read_csv(\"schools/{0}\".format(f))\n",
    "    data[f.replace(\".csv\", \"\")] = d"
   ]
  },
  {
   "cell_type": "markdown",
   "metadata": {},
   "source": [
    "### Read in the surveys"
   ]
  },
  {
   "cell_type": "code",
   "execution_count": 2,
   "metadata": {},
   "outputs": [
    {
     "name": "stderr",
     "output_type": "stream",
     "text": [
      "C:\\Users\\Cuyler\\Anaconda3\\envs\\dqprojects\\lib\\site-packages\\ipykernel_launcher.py:3: FutureWarning: Sorting because non-concatenation axis is not aligned. A future version\n",
      "of pandas will change to not sort by default.\n",
      "\n",
      "To accept the future behavior, pass 'sort=False'.\n",
      "\n",
      "To retain the current behavior and silence the warning, pass 'sort=True'.\n",
      "\n",
      "  This is separate from the ipykernel package so we can avoid doing imports until\n"
     ]
    }
   ],
   "source": [
    "all_survey = pd.read_csv(\"schools/survey_all.txt\", delimiter=\"\\t\", encoding='windows-1252')\n",
    "d75_survey = pd.read_csv(\"schools/survey_d75.txt\", delimiter=\"\\t\", encoding='windows-1252')\n",
    "survey = pd.concat([all_survey, d75_survey], axis=0)\n",
    "\n",
    "survey[\"DBN\"] = survey[\"dbn\"]\n",
    "\n",
    "survey_fields = [\n",
    "    \"DBN\", \n",
    "    \"rr_s\", \n",
    "    \"rr_t\", \n",
    "    \"rr_p\", \n",
    "    \"N_s\", \n",
    "    \"N_t\", \n",
    "    \"N_p\", \n",
    "    \"saf_p_11\", \n",
    "    \"com_p_11\", \n",
    "    \"eng_p_11\", \n",
    "    \"aca_p_11\", \n",
    "    \"saf_t_11\", \n",
    "    \"com_t_11\", \n",
    "    \"eng_t_11\", \n",
    "    \"aca_t_11\", \n",
    "    \"saf_s_11\", \n",
    "    \"com_s_11\", \n",
    "    \"eng_s_11\", \n",
    "    \"aca_s_11\", \n",
    "    \"saf_tot_11\", \n",
    "    \"com_tot_11\", \n",
    "    \"eng_tot_11\", \n",
    "    \"aca_tot_11\",\n",
    "]\n",
    "survey = survey.loc[:,survey_fields]\n",
    "data[\"survey\"] = survey"
   ]
  },
  {
   "cell_type": "markdown",
   "metadata": {},
   "source": [
    "### Add DBN columns"
   ]
  },
  {
   "cell_type": "code",
   "execution_count": 3,
   "metadata": {},
   "outputs": [],
   "source": [
    "data[\"hs_directory\"][\"DBN\"] = data[\"hs_directory\"][\"dbn\"]\n",
    "\n",
    "def pad_csd(num):\n",
    "    string_representation = str(num)\n",
    "    if len(string_representation) > 1:\n",
    "        return string_representation\n",
    "    else:\n",
    "        return \"0\" + string_representation\n",
    "    \n",
    "data[\"class_size\"][\"padded_csd\"] = data[\"class_size\"][\"CSD\"].apply(pad_csd)\n",
    "data[\"class_size\"][\"DBN\"] = data[\"class_size\"][\"padded_csd\"] + data[\"class_size\"][\"SCHOOL CODE\"]"
   ]
  },
  {
   "cell_type": "markdown",
   "metadata": {},
   "source": [
    "### Convert columns to numeric"
   ]
  },
  {
   "cell_type": "code",
   "execution_count": 4,
   "metadata": {},
   "outputs": [],
   "source": [
    "cols = ['SAT Math Avg. Score', 'SAT Critical Reading Avg. Score', 'SAT Writing Avg. Score']\n",
    "for c in cols:\n",
    "    data[\"sat_results\"][c] = pd.to_numeric(data[\"sat_results\"][c], errors=\"coerce\")\n",
    "\n",
    "data['sat_results']['sat_score'] = data['sat_results'][cols[0]] + data['sat_results'][cols[1]] + data['sat_results'][cols[2]]\n",
    "\n",
    "def find_lat(loc):\n",
    "    coords = re.findall(\"\\(.+, .+\\)\", loc)\n",
    "    lat = coords[0].split(\",\")[0].replace(\"(\", \"\")\n",
    "    return lat\n",
    "\n",
    "def find_lon(loc):\n",
    "    coords = re.findall(\"\\(.+, .+\\)\", loc)\n",
    "    lon = coords[0].split(\",\")[1].replace(\")\", \"\").strip()\n",
    "    return lon\n",
    "\n",
    "data[\"hs_directory\"][\"lat\"] = data[\"hs_directory\"][\"Location 1\"].apply(find_lat)\n",
    "data[\"hs_directory\"][\"lon\"] = data[\"hs_directory\"][\"Location 1\"].apply(find_lon)\n",
    "\n",
    "data[\"hs_directory\"][\"lat\"] = pd.to_numeric(data[\"hs_directory\"][\"lat\"], errors=\"coerce\")\n",
    "data[\"hs_directory\"][\"lon\"] = pd.to_numeric(data[\"hs_directory\"][\"lon\"], errors=\"coerce\")"
   ]
  },
  {
   "cell_type": "markdown",
   "metadata": {},
   "source": [
    "### Condense datasets"
   ]
  },
  {
   "cell_type": "code",
   "execution_count": 5,
   "metadata": {},
   "outputs": [],
   "source": [
    "class_size = data[\"class_size\"]\n",
    "class_size = class_size[class_size[\"GRADE \"] == \"09-12\"]\n",
    "class_size = class_size[class_size[\"PROGRAM TYPE\"] == \"GEN ED\"]\n",
    "\n",
    "class_size = class_size.groupby(\"DBN\").agg(np.mean)\n",
    "class_size.reset_index(inplace=True)\n",
    "data[\"class_size\"] = class_size\n",
    "\n",
    "data[\"demographics\"] = data[\"demographics\"][data[\"demographics\"][\"schoolyear\"] == 20112012]\n",
    "\n",
    "data[\"graduation\"] = data[\"graduation\"][data[\"graduation\"][\"Cohort\"] == \"2006\"]\n",
    "data[\"graduation\"] = data[\"graduation\"][data[\"graduation\"][\"Demographic\"] == \"Total Cohort\"]"
   ]
  },
  {
   "cell_type": "markdown",
   "metadata": {},
   "source": [
    "### Convert AP scores to numeric"
   ]
  },
  {
   "cell_type": "code",
   "execution_count": 6,
   "metadata": {},
   "outputs": [],
   "source": [
    "cols = ['AP Test Takers ', 'Total Exams Taken', 'Number of Exams with scores 3 4 or 5']\n",
    "\n",
    "for col in cols:\n",
    "    data[\"ap_2010\"][col] = pd.to_numeric(data[\"ap_2010\"][col], errors=\"coerce\")"
   ]
  },
  {
   "cell_type": "markdown",
   "metadata": {},
   "source": [
    "### Combine the datasets"
   ]
  },
  {
   "cell_type": "code",
   "execution_count": 7,
   "metadata": {},
   "outputs": [],
   "source": [
    "combined = data[\"sat_results\"]\n",
    "\n",
    "combined = combined.merge(data[\"ap_2010\"], on=\"DBN\", how=\"left\")\n",
    "combined = combined.merge(data[\"graduation\"], on=\"DBN\", how=\"left\")\n",
    "\n",
    "to_merge = [\"class_size\", \"demographics\", \"survey\", \"hs_directory\"]\n",
    "\n",
    "for m in to_merge:\n",
    "    combined = combined.merge(data[m], on=\"DBN\", how=\"inner\")\n",
    "\n",
    "combined = combined.fillna(combined.mean())\n",
    "combined = combined.fillna(0)"
   ]
  },
  {
   "cell_type": "markdown",
   "metadata": {},
   "source": [
    "### Add a school district column for mapping"
   ]
  },
  {
   "cell_type": "code",
   "execution_count": 8,
   "metadata": {},
   "outputs": [],
   "source": [
    "def get_first_two_chars(dbn):\n",
    "    return dbn[0:2]\n",
    "\n",
    "combined[\"school_dist\"] = combined[\"DBN\"].apply(get_first_two_chars)"
   ]
  },
  {
   "cell_type": "markdown",
   "metadata": {},
   "source": [
    "### Find correlations"
   ]
  },
  {
   "cell_type": "code",
   "execution_count": 9,
   "metadata": {},
   "outputs": [
    {
     "name": "stdout",
     "output_type": "stream",
     "text": [
      "SAT Critical Reading Avg. Score         0.986820\n",
      "SAT Math Avg. Score                     0.972643\n",
      "SAT Writing Avg. Score                  0.987771\n",
      "sat_score                               1.000000\n",
      "AP Test Takers                          0.523140\n",
      "Total Exams Taken                       0.514333\n",
      "Number of Exams with scores 3 4 or 5    0.463245\n",
      "Total Cohort                            0.325144\n",
      "CSD                                     0.042948\n",
      "NUMBER OF STUDENTS / SEATS FILLED       0.394626\n",
      "NUMBER OF SECTIONS                      0.362673\n",
      "AVERAGE CLASS SIZE                      0.381014\n",
      "SIZE OF SMALLEST CLASS                  0.249949\n",
      "SIZE OF LARGEST CLASS                   0.314434\n",
      "SCHOOLWIDE PUPIL-TEACHER RATIO               NaN\n",
      "schoolyear                                   NaN\n",
      "fl_percent                                   NaN\n",
      "frl_percent                            -0.722225\n",
      "total_enrollment                        0.367857\n",
      "ell_num                                -0.153778\n",
      "ell_percent                            -0.398750\n",
      "sped_num                                0.034933\n",
      "sped_percent                           -0.448170\n",
      "asian_num                               0.475445\n",
      "asian_per                               0.570730\n",
      "black_num                               0.027979\n",
      "black_per                              -0.284139\n",
      "hispanic_num                            0.025744\n",
      "hispanic_per                           -0.396985\n",
      "white_num                               0.449559\n",
      "                                          ...   \n",
      "rr_p                                    0.047925\n",
      "N_s                                     0.423463\n",
      "N_t                                     0.291463\n",
      "N_p                                     0.421530\n",
      "saf_p_11                                0.122913\n",
      "com_p_11                               -0.115073\n",
      "eng_p_11                                0.020254\n",
      "aca_p_11                                0.035155\n",
      "saf_t_11                                0.313810\n",
      "com_t_11                                0.082419\n",
      "eng_t_11                                0.036906\n",
      "aca_t_11                                0.132348\n",
      "saf_s_11                                0.337639\n",
      "com_s_11                                0.187370\n",
      "eng_s_11                                0.213822\n",
      "aca_s_11                                0.339435\n",
      "saf_tot_11                              0.318753\n",
      "com_tot_11                              0.077310\n",
      "eng_tot_11                              0.100102\n",
      "aca_tot_11                              0.190966\n",
      "grade_span_max                               NaN\n",
      "expgrade_span_max                            NaN\n",
      "zip                                    -0.063977\n",
      "total_students                          0.407827\n",
      "number_programs                         0.117012\n",
      "priority08                                   NaN\n",
      "priority09                                   NaN\n",
      "priority10                                   NaN\n",
      "lat                                    -0.121029\n",
      "lon                                    -0.132222\n",
      "Name: sat_score, Length: 67, dtype: float64\n"
     ]
    }
   ],
   "source": [
    "correlations = combined.corr()\n",
    "correlations = correlations[\"sat_score\"]\n",
    "print(correlations)"
   ]
  },
  {
   "cell_type": "markdown",
   "metadata": {},
   "source": [
    "### Plotting survey correlations"
   ]
  },
  {
   "cell_type": "code",
   "execution_count": 10,
   "metadata": {},
   "outputs": [],
   "source": [
    "# Remove DBN since it's a unique identifier, not a useful numerical value for correlation.\n",
    "survey_fields.remove(\"DBN\")"
   ]
  },
  {
   "cell_type": "code",
   "execution_count": 11,
   "metadata": {},
   "outputs": [],
   "source": [
    "import matplotlib.pyplot as plt\n",
    "%matplotlib inline"
   ]
  },
  {
   "cell_type": "markdown",
   "metadata": {},
   "source": [
    "### Make a bar plot of correlations between survey fields and SAT scores"
   ]
  },
  {
   "cell_type": "code",
   "execution_count": 12,
   "metadata": {},
   "outputs": [
    {
     "data": {
      "image/png": "[encoded data removed]",
      "text/plain": [
       "<Figure size 432x288 with 1 Axes>"
      ]
     },
     "metadata": {
      "needs_background": "light"
     },
     "output_type": "display_data"
    }
   ],
   "source": [
    "correlations[survey_fields].plot(kind='bar')\n",
    "plt.title(\"Pearson Correlation Coefficient (r) between Survey Responses and SAT Scores\")\n",
    "plt.show()"
   ]
  },
  {
   "cell_type": "markdown",
   "metadata": {},
   "source": [
    "The data dictionary for the survey fields plotted above can be found [here](https://data.cityofnewyork.us/Education/2011-NYC-School-Survey/mnz3-dyi8). By consulting the data dictionary, we can determine that the fields with the strongest positive correlation with SAT scores are the number of survey responses from students and parents. While this may be indicative of student and parent investment in student success, it does not give us insight into a demographic factor which may influence SAT scores. The remaining fields which have the strongest positive correlations with SAT scores include:\n",
    "\n",
    "- Safety and Respect scores based on teacher and student responses\n",
    "- Academic expecations score based on student responses (but not teacher responses)\n",
    "\n",
    "Let's investigate the correlation between SAT scores and Safety and Respect scores based on student responses."
   ]
  },
  {
   "cell_type": "markdown",
   "metadata": {},
   "source": [
    "### Exploring School Safety and SAT Scores"
   ]
  },
  {
   "cell_type": "code",
   "execution_count": 13,
   "metadata": {},
   "outputs": [
    {
     "data": {
      "image/png": "[encoded data removed]",
      "text/plain": [
       "<Figure size 432x288 with 1 Axes>"
      ]
     },
     "metadata": {
      "needs_background": "light"
     },
     "output_type": "display_data"
    }
   ],
   "source": [
    "combined.plot(kind='scatter', x='saf_s_11', y='sat_score')\n",
    "plt.title(\"Average SAT Score vs. Average Safety and Respect Score Based on Student Responses\")\n",
    "plt.xlabel(\"Average Safety and Respect Score Based on Student Responses\")\n",
    "plt.ylabel(\"Average SAT Score\")\n",
    "plt.show()"
   ]
  },
  {
   "cell_type": "markdown",
   "metadata": {},
   "source": [
    "The scatter plot above confirms the positive correlation betwen SAT score and safety score based on student responses. This makes sense. If a student feels safe in their school environment, they will be able to focus on their academics. Let's now see if we can identify how the average safety score varies among school districts. We will compute the average safety score for each district and then map the districts to see if we can identify any patterns. For reference, here is a map of the five NYC boroughs to help identify which borough the school districts are located in:\n",
    "\n",
    "![NYC Boroughs](nyc-borough-map.png)"
   ]
  },
  {
   "cell_type": "code",
   "execution_count": 14,
   "metadata": {},
   "outputs": [
    {
     "data": {
      "text/html": [
       "<div>\n",
       "<style scoped>\n",
       "    .dataframe tbody tr th:only-of-type {\n",
       "        vertical-align: middle;\n",
       "    }\n",
       "\n",
       "    .dataframe tbody tr th {\n",
       "        vertical-align: top;\n",
       "    }\n",
       "\n",
       "    .dataframe thead th {\n",
       "        text-align: right;\n",
       "    }\n",
       "</style>\n",
       "<table border=\"1\" class=\"dataframe\">\n",
       "  <thead>\n",
       "    <tr style=\"text-align: right;\">\n",
       "      <th></th>\n",
       "      <th>SAT Critical Reading Avg. Score</th>\n",
       "      <th>SAT Math Avg. Score</th>\n",
       "      <th>SAT Writing Avg. Score</th>\n",
       "      <th>sat_score</th>\n",
       "      <th>AP Test Takers</th>\n",
       "      <th>Total Exams Taken</th>\n",
       "      <th>Number of Exams with scores 3 4 or 5</th>\n",
       "      <th>Total Cohort</th>\n",
       "      <th>CSD</th>\n",
       "      <th>NUMBER OF STUDENTS / SEATS FILLED</th>\n",
       "      <th>...</th>\n",
       "      <th>grade_span_max</th>\n",
       "      <th>expgrade_span_max</th>\n",
       "      <th>zip</th>\n",
       "      <th>total_students</th>\n",
       "      <th>number_programs</th>\n",
       "      <th>priority08</th>\n",
       "      <th>priority09</th>\n",
       "      <th>priority10</th>\n",
       "      <th>lat</th>\n",
       "      <th>lon</th>\n",
       "    </tr>\n",
       "    <tr>\n",
       "      <th>school_dist</th>\n",
       "      <th></th>\n",
       "      <th></th>\n",
       "      <th></th>\n",
       "      <th></th>\n",
       "      <th></th>\n",
       "      <th></th>\n",
       "      <th></th>\n",
       "      <th></th>\n",
       "      <th></th>\n",
       "      <th></th>\n",
       "      <th></th>\n",
       "      <th></th>\n",
       "      <th></th>\n",
       "      <th></th>\n",
       "      <th></th>\n",
       "      <th></th>\n",
       "      <th></th>\n",
       "      <th></th>\n",
       "      <th></th>\n",
       "      <th></th>\n",
       "      <th></th>\n",
       "    </tr>\n",
       "  </thead>\n",
       "  <tbody>\n",
       "    <tr>\n",
       "      <th>01</th>\n",
       "      <td>441.833333</td>\n",
       "      <td>473.333333</td>\n",
       "      <td>439.333333</td>\n",
       "      <td>1354.500000</td>\n",
       "      <td>116.681090</td>\n",
       "      <td>173.019231</td>\n",
       "      <td>135.800000</td>\n",
       "      <td>93.500000</td>\n",
       "      <td>1.0</td>\n",
       "      <td>115.244241</td>\n",
       "      <td>...</td>\n",
       "      <td>12.0</td>\n",
       "      <td>12.0</td>\n",
       "      <td>10003.166667</td>\n",
       "      <td>659.500000</td>\n",
       "      <td>1.333333</td>\n",
       "      <td>0.0</td>\n",
       "      <td>0.0</td>\n",
       "      <td>0.0</td>\n",
       "      <td>40.719022</td>\n",
       "      <td>-73.982377</td>\n",
       "    </tr>\n",
       "    <tr>\n",
       "      <th>02</th>\n",
       "      <td>426.619092</td>\n",
       "      <td>444.186256</td>\n",
       "      <td>424.832836</td>\n",
       "      <td>1295.638184</td>\n",
       "      <td>128.908454</td>\n",
       "      <td>201.516827</td>\n",
       "      <td>157.495833</td>\n",
       "      <td>158.647849</td>\n",
       "      <td>2.0</td>\n",
       "      <td>149.818949</td>\n",
       "      <td>...</td>\n",
       "      <td>12.0</td>\n",
       "      <td>12.0</td>\n",
       "      <td>10023.770833</td>\n",
       "      <td>621.395833</td>\n",
       "      <td>1.416667</td>\n",
       "      <td>0.0</td>\n",
       "      <td>0.0</td>\n",
       "      <td>0.0</td>\n",
       "      <td>40.739699</td>\n",
       "      <td>-73.991386</td>\n",
       "    </tr>\n",
       "    <tr>\n",
       "      <th>03</th>\n",
       "      <td>428.529851</td>\n",
       "      <td>437.997512</td>\n",
       "      <td>426.915672</td>\n",
       "      <td>1293.443035</td>\n",
       "      <td>156.183494</td>\n",
       "      <td>244.522436</td>\n",
       "      <td>193.087500</td>\n",
       "      <td>183.384409</td>\n",
       "      <td>3.0</td>\n",
       "      <td>156.005994</td>\n",
       "      <td>...</td>\n",
       "      <td>12.0</td>\n",
       "      <td>12.0</td>\n",
       "      <td>10023.750000</td>\n",
       "      <td>717.916667</td>\n",
       "      <td>2.000000</td>\n",
       "      <td>0.0</td>\n",
       "      <td>0.0</td>\n",
       "      <td>0.0</td>\n",
       "      <td>40.781574</td>\n",
       "      <td>-73.977370</td>\n",
       "    </tr>\n",
       "    <tr>\n",
       "      <th>04</th>\n",
       "      <td>402.142857</td>\n",
       "      <td>416.285714</td>\n",
       "      <td>405.714286</td>\n",
       "      <td>1224.142857</td>\n",
       "      <td>129.016484</td>\n",
       "      <td>183.879121</td>\n",
       "      <td>151.035714</td>\n",
       "      <td>113.857143</td>\n",
       "      <td>4.0</td>\n",
       "      <td>132.362265</td>\n",
       "      <td>...</td>\n",
       "      <td>12.0</td>\n",
       "      <td>12.0</td>\n",
       "      <td>10029.857143</td>\n",
       "      <td>580.857143</td>\n",
       "      <td>1.142857</td>\n",
       "      <td>0.0</td>\n",
       "      <td>0.0</td>\n",
       "      <td>0.0</td>\n",
       "      <td>40.793449</td>\n",
       "      <td>-73.943215</td>\n",
       "    </tr>\n",
       "    <tr>\n",
       "      <th>05</th>\n",
       "      <td>427.159915</td>\n",
       "      <td>438.236674</td>\n",
       "      <td>419.666098</td>\n",
       "      <td>1285.062687</td>\n",
       "      <td>85.722527</td>\n",
       "      <td>115.725275</td>\n",
       "      <td>142.464286</td>\n",
       "      <td>143.677419</td>\n",
       "      <td>5.0</td>\n",
       "      <td>120.623901</td>\n",
       "      <td>...</td>\n",
       "      <td>12.0</td>\n",
       "      <td>12.0</td>\n",
       "      <td>10030.142857</td>\n",
       "      <td>609.857143</td>\n",
       "      <td>1.142857</td>\n",
       "      <td>0.0</td>\n",
       "      <td>0.0</td>\n",
       "      <td>0.0</td>\n",
       "      <td>40.817077</td>\n",
       "      <td>-73.949251</td>\n",
       "    </tr>\n",
       "  </tbody>\n",
       "</table>\n",
       "<p>5 rows × 67 columns</p>\n",
       "</div>"
      ],
      "text/plain": [
       "             SAT Critical Reading Avg. Score  SAT Math Avg. Score  \\\n",
       "school_dist                                                         \n",
       "01                                441.833333           473.333333   \n",
       "02                                426.619092           444.186256   \n",
       "03                                428.529851           437.997512   \n",
       "04                                402.142857           416.285714   \n",
       "05                                427.159915           438.236674   \n",
       "\n",
       "             SAT Writing Avg. Score    sat_score  AP Test Takers   \\\n",
       "school_dist                                                         \n",
       "01                       439.333333  1354.500000       116.681090   \n",
       "02                       424.832836  1295.638184       128.908454   \n",
       "03                       426.915672  1293.443035       156.183494   \n",
       "04                       405.714286  1224.142857       129.016484   \n",
       "05                       419.666098  1285.062687        85.722527   \n",
       "\n",
       "             Total Exams Taken  Number of Exams with scores 3 4 or 5  \\\n",
       "school_dist                                                            \n",
       "01                  173.019231                            135.800000   \n",
       "02                  201.516827                            157.495833   \n",
       "03                  244.522436                            193.087500   \n",
       "04                  183.879121                            151.035714   \n",
       "05                  115.725275                            142.464286   \n",
       "\n",
       "             Total Cohort  CSD  NUMBER OF STUDENTS / SEATS FILLED  ...  \\\n",
       "school_dist                                                        ...   \n",
       "01              93.500000  1.0                         115.244241  ...   \n",
       "02             158.647849  2.0                         149.818949  ...   \n",
       "03             183.384409  3.0                         156.005994  ...   \n",
       "04             113.857143  4.0                         132.362265  ...   \n",
       "05             143.677419  5.0                         120.623901  ...   \n",
       "\n",
       "             grade_span_max  expgrade_span_max           zip  total_students  \\\n",
       "school_dist                                                                    \n",
       "01                     12.0               12.0  10003.166667      659.500000   \n",
       "02                     12.0               12.0  10023.770833      621.395833   \n",
       "03                     12.0               12.0  10023.750000      717.916667   \n",
       "04                     12.0               12.0  10029.857143      580.857143   \n",
       "05                     12.0               12.0  10030.142857      609.857143   \n",
       "\n",
       "             number_programs  priority08  priority09  priority10        lat  \\\n",
       "school_dist                                                                   \n",
       "01                  1.333333         0.0         0.0         0.0  40.719022   \n",
       "02                  1.416667         0.0         0.0         0.0  40.739699   \n",
       "03                  2.000000         0.0         0.0         0.0  40.781574   \n",
       "04                  1.142857         0.0         0.0         0.0  40.793449   \n",
       "05                  1.142857         0.0         0.0         0.0  40.817077   \n",
       "\n",
       "                   lon  \n",
       "school_dist             \n",
       "01          -73.982377  \n",
       "02          -73.991386  \n",
       "03          -73.977370  \n",
       "04          -73.943215  \n",
       "05          -73.949251  \n",
       "\n",
       "[5 rows x 67 columns]"
      ]
     },
     "execution_count": 14,
     "metadata": {},
     "output_type": "execute_result"
    }
   ],
   "source": [
    "districts_safety = combined.groupby('school_dist').agg(np.mean)\n",
    "districts_safety.head()"
   ]
  },
  {
   "cell_type": "code",
   "execution_count": 15,
   "metadata": {},
   "outputs": [
    {
     "data": {
      "image/png": "[encoded data removed]",
      "text/plain": [
       "<Figure size 432x288 with 2 Axes>"
      ]
     },
     "metadata": {
      "needs_background": "light"
     },
     "output_type": "display_data"
    }
   ],
   "source": [
    "from mpl_toolkits.basemap import Basemap\n",
    "\n",
    "m = Basemap(\n",
    "    projection='merc',\n",
    "    llcrnrlat=40.496044, \n",
    "    urcrnrlat=40.915256, \n",
    "    llcrnrlon=-74.255735, \n",
    "    urcrnrlon=-73.700272, \n",
    "    resolution='i'\n",
    "    )\n",
    "\n",
    "m.drawmapboundary(fill_color='#85A6D9')\n",
    "m.drawcoastlines(color='#6D5F47', linewidth=.4)\n",
    "m.drawrivers(color='#6D5F47', linewidth=.4)\n",
    "\n",
    "longitudes = districts_safety[\"lon\"].tolist()\n",
    "latitudes = districts_safety[\"lat\"].tolist()\n",
    "\n",
    "m.scatter(longitudes, latitudes, s=60, zorder=2, latlon=True, c=districts_safety['saf_s_11'], cmap='YlGn')\n",
    "cbar = plt.colorbar()\n",
    "cbar.set_label(\"Safety Score Based on Student Responses\")\n",
    "plt.title(\"Average Safety Rating of School Districts in New York City\")\n",
    "plt.show()"
   ]
  },
  {
   "cell_type": "markdown",
   "metadata": {},
   "source": [
    "By comparing the above plot with the provided map of the New York City boroughs, it appears that most of the school districts with the lowest safety ratings are in central Brooklyn, while The Bronx and Queens each also have one low-ranking district. Manhattan appears to have the most consistently safe school districts in New York City."
   ]
  },
  {
   "cell_type": "markdown",
   "metadata": {},
   "source": [
    "### Exploring Race and SAT Scores"
   ]
  },
  {
   "cell_type": "markdown",
   "metadata": {},
   "source": [
    "Let's now see what factor race plays in SAT scores in New York City. There are several columns in our dataframe which indicate the percentage of each race at a given school:\n",
    "\n",
    "- `white_per`\n",
    "- `asian_per`\n",
    "- `black_per`\n",
    "- `hispanic_per`\n",
    "\n",
    "Let's see if we can find any correlations between these columns and SAT scores."
   ]
  },
  {
   "cell_type": "code",
   "execution_count": 16,
   "metadata": {},
   "outputs": [
    {
     "data": {
      "image/png": "[encoded data removed]",
      "text/plain": [
       "<Figure size 432x288 with 1 Axes>"
      ]
     },
     "metadata": {
      "needs_background": "light"
     },
     "output_type": "display_data"
    }
   ],
   "source": [
    "race_fields = ['white_per', 'asian_per', 'black_per', 'hispanic_per']\n",
    "\n",
    "correlations[race_fields].plot(kind='bar')\n",
    "plt.title(\"Pearson Correlation Coefficient (r) between Race and SAT Scores\")\n",
    "plt.show()"
   ]
  },
  {
   "cell_type": "markdown",
   "metadata": {},
   "source": [
    "It appears that the percentage of white and asian students in a school has a strong positive correlation with SAT scores. On the other hand, there is a negative correlation between the percentage of Black and Hispanic students in a school and SAT scores. Hispanic students have the strongest negative correlation with SAT scores. Thus, Hispanic students appear to be the most disadvantaged by the SAT test. Let's explore this correlation with a scatter plot."
   ]
  },
  {
   "cell_type": "code",
   "execution_count": 17,
   "metadata": {},
   "outputs": [
    {
     "data": {
      "image/png": "[encoded data removed]",
      "text/plain": [
       "<Figure size 432x288 with 1 Axes>"
      ]
     },
     "metadata": {
      "needs_background": "light"
     },
     "output_type": "display_data"
    }
   ],
   "source": [
    "combined.plot(kind='scatter', x='hispanic_per', y='sat_score')\n",
    "plt.title(\"Average SAT Score vs. Percentage of Hispanic Students\")\n",
    "plt.xlabel(\"Percentage of Hispanic Students\")\n",
    "plt.ylabel(\"Average SAT Score\")\n",
    "plt.show()"
   ]
  },
  {
   "cell_type": "markdown",
   "metadata": {},
   "source": [
    "This scatter plot confirms the strong negative correlation betwen the percentage of Hispanic students in a school and SAT scores. Let's look specifically at the schools in New York City with > 95% Hispanic student population and see if we can find any patterns."
   ]
  },
  {
   "cell_type": "code",
   "execution_count": 18,
   "metadata": {},
   "outputs": [
    {
     "name": "stdout",
     "output_type": "stream",
     "text": [
      "        DBN                                        SCHOOL NAME  \\\n",
      "44   02M542                      MANHATTAN BRIDGES HIGH SCHOOL   \n",
      "82   06M348   WASHINGTON HEIGHTS EXPEDITIONARY LEARNING SCHOOL   \n",
      "89   06M552  GREGORIO LUPERON HIGH SCHOOL FOR SCIENCE AND M...   \n",
      "125  09X365                ACADEMY FOR LANGUAGE AND TECHNOLOGY   \n",
      "141  10X342              INTERNATIONAL SCHOOL FOR LIBERAL ARTS   \n",
      "176  12X388   PAN AMERICAN INTERNATIONAL HIGH SCHOOL AT MONROE   \n",
      "253  19K583                          MULTICULTURAL HIGH SCHOOL   \n",
      "286  24Q296             PAN AMERICAN INTERNATIONAL HIGH SCHOOL   \n",
      "\n",
      "    Num of SAT Test Takers  SAT Critical Reading Avg. Score  \\\n",
      "44                      66                            336.0   \n",
      "82                      70                            380.0   \n",
      "89                      56                            339.0   \n",
      "125                     54                            315.0   \n",
      "141                     49                            300.0   \n",
      "176                     30                            321.0   \n",
      "253                     29                            279.0   \n",
      "286                     55                            317.0   \n",
      "\n",
      "     SAT Math Avg. Score  SAT Writing Avg. Score  sat_score  \\\n",
      "44                 378.0                   344.0     1058.0   \n",
      "82                 395.0                   399.0     1174.0   \n",
      "89                 349.0                   326.0     1014.0   \n",
      "125                339.0                   297.0      951.0   \n",
      "141                333.0                   301.0      934.0   \n",
      "176                351.0                   298.0      970.0   \n",
      "253                322.0                   286.0      887.0   \n",
      "286                323.0                   311.0      951.0   \n",
      "\n",
      "                                SchoolName  AP Test Takers   \\\n",
      "44           Manhattan Bridges High School        67.000000   \n",
      "82                                       0       129.028846   \n",
      "89          GREGORIO LUPERON HS SCI & MATH        88.000000   \n",
      "125    Academy for Language and Technology        20.000000   \n",
      "141  International School for Liberal Arts        55.000000   \n",
      "176                                      0       129.028846   \n",
      "253              Multicultural High School        44.000000   \n",
      "286                                      0       129.028846   \n",
      "\n",
      "     Total Exams Taken  ...                       priority05 priority06  \\\n",
      "44          102.000000  ...                                0          0   \n",
      "82          197.038462  ...  Then to New York City residents          0   \n",
      "89          138.000000  ...                                0          0   \n",
      "125          20.000000  ...                                0          0   \n",
      "141          73.000000  ...                                0          0   \n",
      "176         197.038462  ...                                0          0   \n",
      "253          44.000000  ...                                0          0   \n",
      "286         197.038462  ...                                0          0   \n",
      "\n",
      "    priority07 priority08  priority09 priority10  \\\n",
      "44           0          0           0          0   \n",
      "82           0          0           0          0   \n",
      "89           0          0           0          0   \n",
      "125          0          0           0          0   \n",
      "141          0          0           0          0   \n",
      "176          0          0           0          0   \n",
      "253          0          0           0          0   \n",
      "286          0          0           0          0   \n",
      "\n",
      "                                            Location 1        lat        lon  \\\n",
      "44   525 West 50Th Street\\nNew York, NY 10019\\n(40....  40.765027 -73.992517   \n",
      "82   511 West 182Nd Street\\nNew York, NY 10033\\n(40...  40.848879 -73.930807   \n",
      "89   501 West 165Th\\nNew York, NY 10032\\n(40.838032...  40.838032 -73.938371   \n",
      "125  1700 Macombs Road\\nBronx, NY 10453\\n(40.849102...  40.849102 -73.916088   \n",
      "141  2780 Reservoir Avenue\\nBronx, NY 10468\\n(40.87...  40.870377 -73.898163   \n",
      "176  1300 Boynton Avenue\\nBronx, NY 10472\\n(40.8313...  40.831366 -73.878823   \n",
      "253  999 Jamaica Avenue\\nBrooklyn, NY 11208\\n(40.69...  40.691144 -73.868426   \n",
      "286  45-10 94Th Street\\nElmhurst, NY 11373\\n(40.743...  40.743303 -73.870575   \n",
      "\n",
      "    school_dist  \n",
      "44           02  \n",
      "82           06  \n",
      "89           06  \n",
      "125          09  \n",
      "141          10  \n",
      "176          12  \n",
      "253          19  \n",
      "286          24  \n",
      "\n",
      "[8 rows x 160 columns]\n"
     ]
    }
   ],
   "source": [
    "hispanic_per_greater_95 = combined.loc[combined['hispanic_per'] > 95]\n",
    "print(hispanic_per_greater_95)"
   ]
  },
  {
   "cell_type": "markdown",
   "metadata": {},
   "source": [
    "By researching these 8 schools (insideschools.org), we can find some common themes:\n",
    "\n",
    "- All of the schools have > 80% of students on free or reduced priced lunch. This is an indicator that most students at these schools come from low-income households.\n",
    "- All but two of the schools have > 70% of students as English language learners.\n",
    "\n",
    "It is clear that low-income students who are not native English speakers are disadvantaged by the SAT."
   ]
  },
  {
   "cell_type": "markdown",
   "metadata": {},
   "source": [
    "Now, let's look specifically at schools with lower than 10% Hispanic students and an average SAT score greater than 1800. We can then research these high-performing schools to see what differentiates them from the Hispanic schools in NYC."
   ]
  },
  {
   "cell_type": "code",
   "execution_count": 19,
   "metadata": {},
   "outputs": [
    {
     "name": "stdout",
     "output_type": "stream",
     "text": [
      "        DBN                                        SCHOOL NAME  \\\n",
      "37   02M475                             STUYVESANT HIGH SCHOOL   \n",
      "151  10X445                       BRONX HIGH SCHOOL OF SCIENCE   \n",
      "187  13K430                     BROOKLYN TECHNICAL HIGH SCHOOL   \n",
      "327  28Q687  QUEENS HIGH SCHOOL FOR THE SCIENCES AT YORK CO...   \n",
      "356  31R605                STATEN ISLAND TECHNICAL HIGH SCHOOL   \n",
      "\n",
      "    Num of SAT Test Takers  SAT Critical Reading Avg. Score  \\\n",
      "37                     832                            679.0   \n",
      "151                    731                            632.0   \n",
      "187                   1277                            587.0   \n",
      "327                    121                            612.0   \n",
      "356                    227                            635.0   \n",
      "\n",
      "     SAT Math Avg. Score  SAT Writing Avg. Score  sat_score  \\\n",
      "37                 735.0                   682.0     2096.0   \n",
      "151                688.0                   649.0     1969.0   \n",
      "187                659.0                   587.0     1833.0   \n",
      "327                660.0                   596.0     1868.0   \n",
      "356                682.0                   636.0     1953.0   \n",
      "\n",
      "                              SchoolName  AP Test Takers   Total Exams Taken  \\\n",
      "37                         STUYVESANT HS           1510.0             2819.0   \n",
      "151                  BRONX HS OF SCIENCE           1190.0             2435.0   \n",
      "187                BROOKLYN TECHNICAL HS           2117.0             3692.0   \n",
      "327  Queens HS for Science York Colllege            215.0              338.0   \n",
      "356           STATEN ISLAND TECHNICAL HS            528.0              905.0   \n",
      "\n",
      "     ...  priority05 priority06 priority07 priority08  priority09 priority10  \\\n",
      "37   ...           0          0          0          0           0          0   \n",
      "151  ...           0          0          0          0           0          0   \n",
      "187  ...           0          0          0          0           0          0   \n",
      "327  ...           0          0          0          0           0          0   \n",
      "356  ...           0          0          0          0           0          0   \n",
      "\n",
      "                                            Location 1        lat        lon  \\\n",
      "37   345 Chambers Street\\nNew York, NY 10282\\n(40.7...  40.717746 -74.014049   \n",
      "151  75 West 205 Street\\nBronx, NY 10468\\n(40.87705...  40.877056 -73.889780   \n",
      "187  29 Ft Greene Place\\nBrooklyn, NY 11217\\n(40.68...  40.688107 -73.976745   \n",
      "327  94-50 159 Street\\nJamaica, NY 11433\\n(40.70099...  40.700999 -73.798154   \n",
      "356  485 Clawson Street\\nStaten Island, NY 10306\\n(...  40.567913 -74.115362   \n",
      "\n",
      "    school_dist  \n",
      "37           02  \n",
      "151          10  \n",
      "187          13  \n",
      "327          28  \n",
      "356          31  \n",
      "\n",
      "[5 rows x 160 columns]\n"
     ]
    }
   ],
   "source": [
    "hispanic_per_less_10_sat_1800 = combined.loc[(combined['hispanic_per'] < 10) & (combined['sat_score'] > 1800)]\n",
    "print(hispanic_per_less_10_sat_1800)"
   ]
  },
  {
   "cell_type": "markdown",
   "metadata": {},
   "source": [
    "By researching these 5 schools (insideschools.org), we can find some common themes:\n",
    "\n",
    "- Each of these schools has Asian student populations of 50% or greater, with White students comprising the second-largest group.\n",
    "- There are very few Black and Hispanic students at all five schools (less than 7% Hispanic, 6% Black)\n",
    "- All 5 schools have fewer than 60% of students on free or reduced priced lunch\n",
    "- The English language learner percentage for all 5 schools is 0%.\n",
    "\n",
    "It is clear that the students at these elite high schools are native English speakers and are, in general, from higher-income families. Both of these factors are positive indicators for SAT scores."
   ]
  },
  {
   "cell_type": "markdown",
   "metadata": {},
   "source": [
    "### Exploring Gender and SAT Scores"
   ]
  },
  {
   "cell_type": "markdown",
   "metadata": {},
   "source": [
    "There are two columns which indicate the percentage of each gender at a school:\n",
    "\n",
    "- `male_per`\n",
    "- `female_per`"
   ]
  },
  {
   "cell_type": "code",
   "execution_count": 20,
   "metadata": {},
   "outputs": [
    {
     "data": {
      "image/png": "[encoded data removed]",
      "text/plain": [
       "<Figure size 432x288 with 1 Axes>"
      ]
     },
     "metadata": {
      "needs_background": "light"
     },
     "output_type": "display_data"
    }
   ],
   "source": [
    "gender_fields = ['male_per', 'female_per']\n",
    "\n",
    "correlations[gender_fields].plot(kind='bar')\n",
    "plt.title(\"Pearson Correlation Coefficient (r) between Gender and SAT Scores\")\n",
    "plt.show()"
   ]
  },
  {
   "cell_type": "markdown",
   "metadata": {},
   "source": [
    "While neither gender has a very strong correlation with gender one way or the other, it does appear that in general, female students perform better on the SAT than male students."
   ]
  },
  {
   "cell_type": "code",
   "execution_count": 21,
   "metadata": {},
   "outputs": [
    {
     "data": {
      "image/png": "[encoded data removed]",
      "text/plain": [
       "<Figure size 432x288 with 1 Axes>"
      ]
     },
     "metadata": {
      "needs_background": "light"
     },
     "output_type": "display_data"
    }
   ],
   "source": [
    "combined.plot(kind='scatter', x='female_per', y='sat_score')\n",
    "plt.title(\"Average SAT Score vs. Percentage of Female Students\")\n",
    "plt.xlabel(\"Percentage of Female Students\")\n",
    "plt.ylabel(\"Average SAT Score\")\n",
    "plt.show()"
   ]
  },
  {
   "cell_type": "markdown",
   "metadata": {},
   "source": [
    "Above we plotted the relationship between female student percentage and SAT scores. While there does not appear to be a strong postive or negative correlation, it does seem that schools that are greater than 80% male or female do not perform particularly well on the SAT.\n",
    "\n",
    "There are a few high-performing schools in the 60-80% female range. Let's look at these schools more closely to see if we can identify any patterns."
   ]
  },
  {
   "cell_type": "code",
   "execution_count": 22,
   "metadata": {},
   "outputs": [
    {
     "name": "stdout",
     "output_type": "stream",
     "text": [
      "        DBN                                        SCHOOL NAME  \\\n",
      "5    01M696                     BARD HIGH SCHOOL EARLY COLLEGE   \n",
      "26   02M416                      ELEANOR ROOSEVELT HIGH SCHOOL   \n",
      "60   03M479                                 BEACON HIGH SCHOOL   \n",
      "61   03M485  FIORELLO H. LAGUARDIA HIGH SCHOOL OF MUSIC & A...   \n",
      "302  25Q525                        TOWNSEND HARRIS HIGH SCHOOL   \n",
      "\n",
      "    Num of SAT Test Takers  SAT Critical Reading Avg. Score  \\\n",
      "5                      130                            624.0   \n",
      "26                     127                            572.0   \n",
      "60                     261                            577.0   \n",
      "61                     531                            566.0   \n",
      "302                    278                            621.0   \n",
      "\n",
      "     SAT Math Avg. Score  SAT Writing Avg. Score  sat_score  \\\n",
      "5                  604.0                   628.0     1856.0   \n",
      "26                 594.0                   592.0     1758.0   \n",
      "60                 575.0                   592.0     1744.0   \n",
      "61                 564.0                   577.0     1707.0   \n",
      "302                651.0                   638.0     1910.0   \n",
      "\n",
      "                        SchoolName  AP Test Takers   Total Exams Taken  ...  \\\n",
      "5                                0       129.028846         197.038462  ...   \n",
      "26   Eleanor Roosevelt High School       155.000000         235.000000  ...   \n",
      "60                   BEACON SCHOOL       166.000000         197.000000  ...   \n",
      "61         FIORELLO H.LAGUARDIA HS       691.000000        1236.000000  ...   \n",
      "302             TOWNSEND HARRIS HS       613.000000         796.000000  ...   \n",
      "\n",
      "     priority05 priority06 priority07 priority08  priority09 priority10  \\\n",
      "5             0          0          0          0           0          0   \n",
      "26            0          0          0          0           0          0   \n",
      "60            0          0          0          0           0          0   \n",
      "61            0          0          0          0           0          0   \n",
      "302           0          0          0          0           0          0   \n",
      "\n",
      "                                            Location 1        lat        lon  \\\n",
      "5    525 East Houston Street\\nNew York, NY 10002\\n(...  40.718962 -73.976066   \n",
      "26   411 East 76 Street\\nNew York, NY 10021\\n(40.77...  40.770116 -73.953379   \n",
      "60   227-243 West 61St Street\\nNew York, NY 10023\\n...  40.772158 -73.987797   \n",
      "61   100 Amsterdam Avenue\\nNew York, NY 10023\\n(40....  40.773671 -73.985269   \n",
      "302  149-11 Melbourne Avenue\\nFlushing, NY 11367\\n(...  40.734408 -73.821417   \n",
      "\n",
      "    school_dist  \n",
      "5            01  \n",
      "26           02  \n",
      "60           03  \n",
      "61           03  \n",
      "302          25  \n",
      "\n",
      "[5 rows x 160 columns]\n"
     ]
    }
   ],
   "source": [
    "female_per_greater_60_SAT_greater_1700 = combined.loc[(combined['female_per'] > 60) & (combined['sat_score'] > 1700)]\n",
    "print(female_per_greater_60_SAT_greater_1700)"
   ]
  },
  {
   "cell_type": "markdown",
   "metadata": {},
   "source": [
    "After researching these five schools on Google and Wikipedia, it appears that they are very selective college preparatory schools, and most are specialized in a certain area (such as performing arts, humanities, or liberal arts). It is not clear why these schools tend to have a majority-female student body."
   ]
  },
  {
   "cell_type": "markdown",
   "metadata": {},
   "source": [
    "### Exploring AP Test Scores and SAT Scores"
   ]
  },
  {
   "cell_type": "markdown",
   "metadata": {},
   "source": [
    "Many high-performing high school students in the United States take Advanced Placement (AP) tests. It makes sense that students who take AP exams would correlated with high SAT scores. Let's explore this relationship and verify if this is reflected in our data."
   ]
  },
  {
   "cell_type": "code",
   "execution_count": 26,
   "metadata": {},
   "outputs": [],
   "source": [
    "combined['ap_per'] = combined['total_enrollment'] / combined['AP Test Takers ']"
   ]
  },
  {
   "cell_type": "code",
   "execution_count": 27,
   "metadata": {},
   "outputs": [
    {
     "data": {
      "image/png": "[encoded data removed]",
      "text/plain": [
       "<Figure size 432x288 with 1 Axes>"
      ]
     },
     "metadata": {
      "needs_background": "light"
     },
     "output_type": "display_data"
    }
   ],
   "source": [
    "combined.plot(kind='scatter', x='ap_per', y='sat_score')\n",
    "plt.title(\"Percentage of AP Test Takers vs. Percentage of Female Students\")\n",
    "plt.xlabel(\"Percentage of Students Who Took >=1 AP Test\")\n",
    "plt.ylabel(\"Average SAT Score\")\n",
    "plt.show()"
   ]
  },
  {
   "cell_type": "markdown",
   "metadata": {},
   "source": [
    "Surprisingly, the percentage of students who took at least 1 AP test is not strongly correlated with average SAT score. In fact, all of the schools with the highest SAT scores had very low percentages of students take an AP test. This relationship would be worth investigating further."
   ]
  }
 ],
 "metadata": {
  "kernelspec": {
   "display_name": "Python 3",
   "language": "python",
   "name": "python3"
  },
  "language_info": {
   "codemirror_mode": {
    "name": "ipython",
    "version": 3
   },
   "file_extension": ".py",
   "mimetype": "text/x-python",
   "name": "python",
   "nbconvert_exporter": "python",
   "pygments_lexer": "ipython3",
   "version": "3.7.3"
  }
 },
 "nbformat": 4,
 "nbformat_minor": 2
}
