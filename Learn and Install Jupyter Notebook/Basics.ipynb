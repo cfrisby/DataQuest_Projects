{
 "cells": [
  {
   "cell_type": "code",
   "execution_count": 1,
   "metadata": {
    "collapsed": true
   },
   "outputs": [],
   "source": [
    "def welcome(a_string):\n",
    "    return 'Welcome to ' + a_string + '!'\n",
    "    \n",
    "dq = 'Dataquest'\n",
    "jn = 'Jupyter Notebook'\n",
    "py = 'Python'"
   ]
  },
  {
   "cell_type": "code",
   "execution_count": 2,
   "metadata": {},
   "outputs": [
    {
     "data": {
      "text/plain": [
       "'Welcome to Jupyter Notebook!'"
      ]
     },
     "execution_count": 2,
     "metadata": {},
     "output_type": "execute_result"
    }
   ],
   "source": [
    "welcome(dq)\n",
    "welcome(jn)"
   ]
  },
  {
   "cell_type": "code",
   "execution_count": 3,
   "metadata": {
    "scrolled": true
   },
   "outputs": [
    {
     "name": "stdout",
     "output_type": "stream",
     "text": [
      ">>> def welcome(a_string):\n",
      "...     return 'Welcome to ' + a_string + '!'\n",
      "...     \n",
      "... dq = 'Dataquest'\n",
      "... jn = 'Jupyter Notebook'\n",
      "... py = 'Python'\n",
      "...\n",
      ">>> welcome(dq)\n",
      "... welcome(jn)\n",
      "...\n",
      ">>> %history -p\n"
     ]
    }
   ],
   "source": [
    "%history -p"
   ]
  },
  {
   "cell_type": "markdown",
   "metadata": {},
   "source": [
    "# Import CSV as a List of Lists\n",
    "1. Open 'Applestore.csv'\n",
    "2. Read in the data contained in the file.\n",
    "3. Convert the data to a list of lists\n",
    "4. Print the first five rows of the data."
   ]
  },
  {
   "cell_type": "code",
   "execution_count": 7,
   "metadata": {},
   "outputs": [
    {
     "name": "stdout",
     "output_type": "stream",
     "text": [
      "[['id', 'track_name', 'size_bytes', 'currency', 'price', 'rating_count_tot', 'rating_count_ver', 'user_rating', 'user_rating_ver', 'ver', 'cont_rating', 'prime_genre', 'sup_devices.num', 'ipadSc_urls.num', 'lang.num', 'vpp_lic'], ['284882215', 'Facebook', '389879808', 'USD', '0.0', '2974676', '212', '3.5', '3.5', '95.0', '4+', 'Social Networking', '37', '1', '29', '1'], ['389801252', 'Instagram', '113954816', 'USD', '0.0', '2161558', '1289', '4.5', '4.0', '10.23', '12+', 'Photo & Video', '37', '0', '29', '1'], ['529479190', 'Clash of Clans', '116476928', 'USD', '0.0', '2130805', '579', '4.5', '4.5', '9.24.12', '9+', 'Games', '38', '5', '18', '1'], ['420009108', 'Temple Run', '65921024', 'USD', '0.0', '1724546', '3842', '4.5', '4.0', '1.6.2', '9+', 'Games', '40', '5', '1', '1']]\n",
      "7198\n"
     ]
    }
   ],
   "source": [
    "file = open('AppleStore.csv')\n",
    "from csv import reader\n",
    "data = reader(file)\n",
    "apps_data = list(data)\n",
    "\n",
    "print(apps_data[:5])\n",
    "print(len(apps_data))"
   ]
  },
  {
   "cell_type": "markdown",
   "metadata": {},
   "source": [
    "This data set contains information on over 7,000 apps available on the Apple App Store. The data was taken from Kaggle and can be found here: [link](https://www.kaggle.com/ramamet4/app-store-apple-data-set-10k-apps/home). The features of the data are described in the table below:"
   ]
  },
  {
   "cell_type": "markdown",
   "metadata": {},
   "source": [
    "|Feature Name| Description|\n",
    "|---|---|\n",
    "|\"id\"|App ID|\n",
    "|\"track_name\"|App Name|\n",
    "|\"size_bytes\"|Size (in Bytes)|\n",
    "|\"currency\"|Currency Type|\n",
    "|\"price\"|Price amount|\n",
    "|\"rating_count_tot\"|User rating counts (for all version)|\n",
    "|\"rating_count_ver\"|User rating counts (for current version)|\n",
    "|\"user_rating\"|Average user rating value (for all versions)|\n",
    "|\"user_rating_ver\"|Average user rating value (for current version)|\n",
    "|\"ver\"|Latest version code|\n",
    "|\"cont_rating\"|Content rating|\n",
    "|\"prime_genre\"|Primary genre|\n",
    "|\"sup_devices.num\"|Number of supporting devices|\n",
    "|\"iPadSC_urls.num\"|Number of screenshots showed for display|\n",
    "|\"lang.num\"|Number of supported languages|\n",
    "|\"vpp_lic\"|Vpp Device Based Licensing Enabled|"
   ]
  }
 ],
 "metadata": {
  "kernelspec": {
   "display_name": "Python 3",
   "language": "python",
   "name": "python3"
  },
  "language_info": {
   "codemirror_mode": {
    "name": "ipython",
    "version": 3
   },
   "file_extension": ".py",
   "mimetype": "text/x-python",
   "name": "python",
   "nbconvert_exporter": "python",
   "pygments_lexer": "ipython3",
   "version": "3.7.3"
  }
 },
 "nbformat": 4,
 "nbformat_minor": 2
}
